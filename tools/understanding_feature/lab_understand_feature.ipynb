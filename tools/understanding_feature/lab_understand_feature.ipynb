{
 "cells": [
  {
   "cell_type": "code",
   "execution_count": 79,
   "metadata": {},
   "outputs": [],
   "source": [
    "import numpy as np\n",
    "import matplotlib.pyplot as plt\n",
    "import residue_constants\n",
    "import pickle\n",
    "\n",
    "TEMPLATE_FEATURES = {\n",
    "    'template_aatype': np.float32,\n",
    "    'template_all_atom_masks': np.float32,\n",
    "    'template_all_atom_positions': np.float32,\n",
    "    'template_domain_names': object,\n",
    "    'template_sequence': object,\n",
    "    'template_sum_probs': np.float32,\n",
    "}\n",
    "\n",
    "input_sequence = \"TTYKLILNLKQAKEEAIKELVDAGTAEKYFKLIANAKTVEGVWTLKDEIKTFTVTE\"    # GA98 sequence"
   ]
  },
  {
   "cell_type": "code",
   "execution_count": 84,
   "metadata": {},
   "outputs": [],
   "source": [
    "def make_manual_template_features(pdb_path: str):\n",
    "    \"\"\"Read PDB file, return a list containing atoms coordinates and positions\"\"\"\n",
    "    with open(pdb_path, 'r') as f:\n",
    "        lines = f.readlines()\n",
    "    \n",
    "    # get pdb id and chain id\n",
    "    file_name = pdb_path.split('/')[-1].split('.')[0]\n",
    "\n",
    "    atoms = []\n",
    "    for line in lines:\n",
    "        if line.startswith('ATOM'):\n",
    "            atom = line[12:16].strip()\n",
    "            res_name = line[17:20].strip()\n",
    "            res_id = int(line[22:26])\n",
    "            x = float(line[30:38])\n",
    "            y = float(line[38:46])\n",
    "            z = float(line[46:54])\n",
    "            atoms.append([atom, res_name, res_id, x, y, z])\n",
    "    \n",
    "    # get the number of residues\n",
    "    num_res = 0\n",
    "    for atom in atoms:\n",
    "        if atom[2] > num_res:\n",
    "            num_res = atom[2]\n",
    "    \n",
    "\n",
    "    # create residue list\n",
    "    residues = [[] for i in range(num_res)]\n",
    "    for atom in atoms:\n",
    "        residues[atom[2]-1].append(atom)\n",
    "\n",
    "    sequence = \"\".join([residue_constants.restype_3to1[residues[i][0][1]] for i in range(num_res)])\n",
    "    aa_type = residue_constants.sequence_to_onehot(sequence, residue_constants.HHBLITS_AA_TO_ID)\n",
    "    \n",
    "\n",
    "    \n",
    "    \n",
    "    all_positions = np.zeros([num_res, residue_constants.atom_type_num, 3])\n",
    "    all_positions_mask = np.zeros([num_res, residue_constants.atom_type_num], dtype=np.int64)\n",
    "\n",
    "\n",
    "    for res_index in range(num_res):\n",
    "        pos = np.zeros([residue_constants.atom_type_num, 3], dtype=np.float32)\n",
    "        mask = np.zeros([residue_constants.atom_type_num], dtype=np.float32)\n",
    "        \n",
    "        for atom in residues[res_index]:\n",
    "            if atom[0] not in residue_constants.atom_types:\n",
    "                continue\n",
    "            atom_type_index = residue_constants.atom_types.index(atom[0])\n",
    "            pos[atom_type_index, :] = atom[3:]\n",
    "            mask[atom_type_index] = 1.0\n",
    "        \n",
    "        all_positions[res_index, :, :] = pos\n",
    "        all_positions_mask[res_index, :] = mask\n",
    "\n",
    "\n",
    "    return (\n",
    "      {\n",
    "          'template_all_atom_positions': np.array([all_positions], dtype=TEMPLATE_FEATURES['template_all_atom_positions']),\n",
    "          'template_all_atom_masks': np.array([all_positions_mask], dtype=TEMPLATE_FEATURES['template_all_atom_masks']),\n",
    "          'template_sequence': np.array([sequence.encode()], dtype=TEMPLATE_FEATURES['template_sequence']),\n",
    "          'template_aatype': np.array([aa_type], dtype=TEMPLATE_FEATURES['template_aatype']),\n",
    "          'template_domain_names': np.array([f'{file_name.lower()}'.encode()], dtype=TEMPLATE_FEATURES['template_domain_names']),\n",
    "          'template_sum_probs': np.array([[100.0]], dtype=TEMPLATE_FEATURES['template_sum_probs']),\n",
    "      })"
   ]
  },
  {
   "cell_type": "code",
   "execution_count": 85,
   "metadata": {},
   "outputs": [],
   "source": [
    "test = make_manual_template_features(\"GA98_model_1.pdb\")"
   ]
  },
  {
   "cell_type": "code",
   "execution_count": 86,
   "metadata": {},
   "outputs": [],
   "source": [
    "feature = pickle.load(open('features.pkl', 'rb'))"
   ]
  },
  {
   "cell_type": "code",
   "execution_count": 87,
   "metadata": {},
   "outputs": [
    {
     "name": "stdout",
     "output_type": "stream",
     "text": [
      "(20, 1)\n",
      "(1, 1)\n"
     ]
    }
   ],
   "source": [
    "print(feature[\"template_sum_probs\"].shape)\n",
    "print(test[\"template_sum_probs\"].shape)"
   ]
  },
  {
   "cell_type": "code",
   "execution_count": 73,
   "metadata": {},
   "outputs": [
    {
     "name": "stderr",
     "output_type": "stream",
     "text": [
      "Clipping input data to the valid range for imshow with RGB data ([0..1] for floats or [0..255] for integers).\n",
      "Clipping input data to the valid range for imshow with RGB data ([0..1] for floats or [0..255] for integers).\n"
     ]
    },
    {
     "data": {
      "text/plain": [
       "<matplotlib.image.AxesImage at 0x25dfd755c10>"
      ]
     },
     "execution_count": 73,
     "metadata": {},
     "output_type": "execute_result"
    },
    {
     "data": {
      "image/png": "[encoded data removed]",
      "text/plain": [
       "<Figure size 600x800 with 2 Axes>"
      ]
     },
     "metadata": {},
     "output_type": "display_data"
    }
   ],
   "source": [
    "plt.figure(figsize=(6, 8))\n",
    "\n",
    "plt.subplot(1, 2, 1)\n",
    "plt.imshow(feature[\"template_domain_names\"][1])\n",
    "\n",
    "plt.subplot(1, 2, 2)\n",
    "plt.imshow(test[\"template_domain_names\"][0])\n"
   ]
  },
  {
   "cell_type": "code",
   "execution_count": null,
   "metadata": {},
   "outputs": [],
   "source": []
  }
 ],
 "metadata": {
  "kernelspec": {
   "display_name": "Python 3",
   "language": "python",
   "name": "python3"
  },
  "language_info": {
   "codemirror_mode": {
    "name": "ipython",
    "version": 3
   },
   "file_extension": ".py",
   "mimetype": "text/x-python",
   "name": "python",
   "nbconvert_exporter": "python",
   "pygments_lexer": "ipython3",
   "version": "3.9.13"
  },
  "orig_nbformat": 4
 },
 "nbformat": 4,
 "nbformat_minor": 2
}
