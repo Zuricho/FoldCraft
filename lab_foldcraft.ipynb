{
 "cells": [
  {
   "cell_type": "code",
   "execution_count": 1,
   "metadata": {},
   "outputs": [],
   "source": [
    "# Packages in original python\n",
    "import enum\n",
    "import json\n",
    "import os\n",
    "import pathlib\n",
    "import pickle\n",
    "import random\n",
    "import shutil\n",
    "import sys\n",
    "import time\n",
    "from typing import Any, Dict, Mapping, Union\n",
    "\n",
    "# Package needs to install\n",
    "from absl import app\n",
    "from absl import flags\n",
    "from absl import logging\n",
    "import jax.numpy as jnp\n",
    "import numpy as np\n",
    "\n",
    "# Package in this project\n",
    "from foldcraft.zurtein import protein\n",
    "from foldcraft.zurtein import residue_constants\n",
    "from foldcraft.alphafold.model import config\n",
    "from foldcraft.alphafold.model import data\n",
    "from foldcraft.alphafold.model import model"
   ]
  },
  {
   "cell_type": "code",
   "execution_count": 2,
   "metadata": {},
   "outputs": [],
   "source": [
    "def _jnp_to_np(output: Dict[str, Any]) -> Dict[str, Any]:\n",
    "    \"\"\"Recursively changes jax arrays to numpy arrays.\"\"\"\n",
    "    for k, v in output.items():\n",
    "        if isinstance(v, dict):\n",
    "            output[k] = _jnp_to_np(v)\n",
    "        elif isinstance(v, jnp.ndarray):\n",
    "            output[k] = np.array(v)\n",
    "    return output"
   ]
  },
  {
   "cell_type": "code",
   "execution_count": 3,
   "metadata": {},
   "outputs": [
    {
     "name": "stderr",
     "output_type": "stream",
     "text": [
      "WARNING: All log messages before absl::InitializeLog() is called are written to STDERR\n",
      "I0000 00:00:1705234747.939348       1 tfrt_cpu_pjrt_client.cc:349] TfrtCpuClient created.\n"
     ]
    }
   ],
   "source": [
    "# set for logging\n",
    "logging.set_verbosity(logging.INFO)\n",
    "\n",
    "model_runners = {}\n",
    "model_names = (\n",
    "    'model_1',\n",
    "#       'model_2',\n",
    "#       'model_3',\n",
    "#       'model_4',\n",
    "#       'model_5',\n",
    ")\n",
    "for model_name in model_names:\n",
    "    model_config = config.model_config(model_name)\n",
    "    \n",
    "    model_config.data.eval.num_ensemble = 1\n",
    "    model_config.model.num_recycle = 3  # FLAGS.recycling\n",
    "    model_config.data.common.num_recycle = 3  # FLAGS.recycling\n",
    "    \n",
    "    model_params = data.get_model_haiku_params(\n",
    "            model_name=model_name, parameter_path=\"/Volumes/Pacifica/Storage/alphafold_params/AF_2_3_params\")   # FLAGS.parameter_path\n",
    "    model_runner = model.RunModel(model_config, model_params)\n",
    "\n",
    "    num_predictions_per_model = 1\n",
    "    for i in range(num_predictions_per_model):\n",
    "        model_runners[f'{model_name}_pred_{i}'] = model_runner"
   ]
  },
  {
   "cell_type": "code",
   "execution_count": 5,
   "metadata": {},
   "outputs": [
    {
     "name": "stderr",
     "output_type": "stream",
     "text": [
      "INFO:absl:Using random seed 1 for the data pipeline\n"
     ]
    }
   ],
   "source": [
    "\n",
    "random_seed = 1\n",
    "logging.info('Using random seed %d for the data pipeline', random_seed)\n",
    "\n",
    "\n",
    "# predict_structure function\n",
    "# logging.info('Predicting %s', fasta_name)\n",
    "timings = {}\n",
    "output_dir_base = 'output'\n",
    "fasta_name = \"test\"\n",
    "output_dir = os.path.join(output_dir_base, fasta_name)\n",
    "if not os.path.exists(output_dir):\n",
    "    os.makedirs(output_dir)\n",
    "\n",
    "# Get features.\n",
    "# We already have feature.pkl file, skip the MSA and template finding step\n",
    "t_0 = time.time()\n",
    "features_output_path = os.path.join(output_dir, 'features.pkl')\n",
    "feature_dict = pickle.load(open(features_output_path, 'rb'))\n",
    "\n",
    "\n",
    "timings['features'] = time.time() - t_0\n",
    "\n"
   ]
  },
  {
   "cell_type": "code",
   "execution_count": 6,
   "metadata": {},
   "outputs": [
    {
     "name": "stderr",
     "output_type": "stream",
     "text": [
      "INFO:absl:Running model model_1_pred_0 on test\n"
     ]
    },
    {
     "name": "stdout",
     "output_type": "stream",
     "text": [
      "WARNING:tensorflow:From /Users/zuricho/anaconda3/envs/foldcraft/lib/python3.10/site-packages/tensorflow/python/autograph/pyct/static_analysis/liveness.py:83: Analyzer.lamba_check (from tensorflow.python.autograph.pyct.static_analysis.liveness) is deprecated and will be removed after 2023-09-23.\n",
      "Instructions for updating:\n",
      "Lambda fuctions will be no more assumed to be used in the statement where they are used, or at least in the same block. https://github.com/tensorflow/tensorflow/issues/56089\n"
     ]
    },
    {
     "name": "stderr",
     "output_type": "stream",
     "text": [
      "WARNING:tensorflow:From /Users/zuricho/anaconda3/envs/foldcraft/lib/python3.10/site-packages/tensorflow/python/autograph/pyct/static_analysis/liveness.py:83: Analyzer.lamba_check (from tensorflow.python.autograph.pyct.static_analysis.liveness) is deprecated and will be removed after 2023-09-23.\n",
      "Instructions for updating:\n",
      "Lambda fuctions will be no more assumed to be used in the statement where they are used, or at least in the same block. https://github.com/tensorflow/tensorflow/issues/56089\n",
      "2024-01-14 20:20:28.292009: W tensorflow/tsl/platform/profile_utils/cpu_utils.cc:128] Failed to get CPU frequency: 0 Hz\n",
      "INFO:absl:Running predict with shape(feat) = {'aatype': (4, 12), 'residue_index': (4, 12), 'seq_length': (4,), 'template_aatype': (4, 4, 12), 'template_all_atom_masks': (4, 4, 12, 37), 'template_all_atom_positions': (4, 4, 12, 37, 3), 'template_sum_probs': (4, 4, 1), 'is_distillation': (4,), 'seq_mask': (4, 12), 'msa_mask': (4, 508, 12), 'msa_row_mask': (4, 508), 'random_crop_to_size_seed': (4, 2), 'template_mask': (4, 4), 'template_pseudo_beta': (4, 4, 12, 3), 'template_pseudo_beta_mask': (4, 4, 12), 'atom14_atom_exists': (4, 12, 14), 'residx_atom14_to_atom37': (4, 12, 14), 'residx_atom37_to_atom14': (4, 12, 37), 'atom37_atom_exists': (4, 12, 37), 'extra_msa': (4, 5120, 12), 'extra_msa_mask': (4, 5120, 12), 'extra_msa_row_mask': (4, 5120), 'bert_mask': (4, 508, 12), 'true_msa': (4, 508, 12), 'extra_has_deletion': (4, 5120, 12), 'extra_deletion_value': (4, 5120, 12), 'msa_feat': (4, 508, 12, 49), 'target_feat': (4, 12, 22)}\n",
      "INFO:absl:Output shape was {'distogram': {'bin_edges': (63,), 'logits': (12, 12, 64)}, 'experimentally_resolved': {'logits': (12, 37)}, 'masked_msa': {'logits': (508, 12, 23)}, 'predicted_lddt': {'logits': (12, 50)}, 'structure_module': {'final_atom_mask': (12, 37), 'final_atom_positions': (12, 37, 3)}, 'plddt': (12,), 'ranking_confidence': ()}\n",
      "INFO:absl:Total JAX model model_1_pred_0 on test predict time (includes compilation time, see --benchmark): 71.3s\n"
     ]
    }
   ],
   "source": [
    "\n",
    "unrelaxed_pdbs = {}\n",
    "unrelaxed_proteins = {}\n",
    "relaxed_pdbs = {}\n",
    "relax_metrics = {}\n",
    "ranking_confidences = {}\n",
    "\n",
    "# Run the models.\n",
    "num_models = len(model_runners)\n",
    "for model_index, (model_name, model_runner) in enumerate(model_runners.items()):\n",
    "    logging.info('Running model %s on %s', model_name, fasta_name)\n",
    "    t_0 = time.time()\n",
    "    model_random_seed = model_index + random_seed * num_models   # model random seed\n",
    "    processed_feature_dict = model_runner.process_features(\n",
    "        feature_dict, random_seed=model_random_seed)\n",
    "    timings[f'process_features_{model_name}'] = time.time() - t_0\n",
    "\n",
    "    t_0 = time.time()\n",
    "    prediction_result = model_runner.predict(processed_feature_dict,\n",
    "                                             random_seed=model_random_seed)\n",
    "    t_diff = time.time() - t_0\n",
    "    timings[f'predict_and_compile_{model_name}'] = t_diff    # note: this time contains compile\n",
    "    logging.info(\n",
    "        'Total JAX model %s on %s predict time (includes compilation time, see --benchmark): %.1fs',\n",
    "        model_name, fasta_name, t_diff)\n",
    "\n",
    "\n",
    "plddt = prediction_result['plddt']\n",
    "ranking_confidences[model_name] = prediction_result['ranking_confidence']\n",
    "\n",
    "# Remove jax dependency from results.\n",
    "np_prediction_result = _jnp_to_np(dict(prediction_result))\n",
    "\n",
    "# Save the model outputs.\n",
    "result_output_path = os.path.join(output_dir, f'result_{model_name}.pkl')\n",
    "with open(result_output_path, 'wb') as f:\n",
    "    pickle.dump(np_prediction_result, f, protocol=4)\n",
    "\n",
    "# Add the predicted LDDT in the b-factor column.\n",
    "# Note that higher predicted LDDT value means higher model confidence.\n",
    "plddt_b_factors = np.repeat(\n",
    "    plddt[:, None], residue_constants.atom_type_num, axis=-1)\n",
    "unrelaxed_protein = protein.from_prediction(\n",
    "    features=processed_feature_dict,\n",
    "    result=prediction_result,\n",
    "    b_factors=plddt_b_factors,\n",
    "    remove_leading_feature_dimension=not model_runner.multimer_mode)\n",
    "\n",
    "unrelaxed_proteins[model_name] = unrelaxed_protein\n",
    "unrelaxed_pdbs[model_name] = protein.to_pdb(unrelaxed_protein)\n",
    "unrelaxed_pdb_path = os.path.join(output_dir, f'unrelaxed_{model_name}.pdb')\n",
    "with open(unrelaxed_pdb_path, 'w') as f:\n",
    "    f.write(unrelaxed_pdbs[model_name])\n",
    "\n",
    "# Rank by model confidence.\n",
    "ranked_order = [\n",
    "    model_name for model_name, confidence in\n",
    "    sorted(ranking_confidences.items(), key=lambda x: x[1], reverse=True)]"
   ]
  },
  {
   "cell_type": "code",
   "execution_count": null,
   "metadata": {},
   "outputs": [],
   "source": []
  }
 ],
 "metadata": {
  "kernelspec": {
   "display_name": "foldcraft",
   "language": "python",
   "name": "python3"
  },
  "language_info": {
   "codemirror_mode": {
    "name": "ipython",
    "version": 3
   },
   "file_extension": ".py",
   "mimetype": "text/x-python",
   "name": "python",
   "nbconvert_exporter": "python",
   "pygments_lexer": "ipython3",
   "version": "3.10.12"
  }
 },
 "nbformat": 4,
 "nbformat_minor": 2
}
